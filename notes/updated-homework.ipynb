{
  "nbformat": 4,
  "nbformat_minor": 0,
  "metadata": {
    "colab": {
      "provenance": [],
      "authorship_tag": "ABX9TyOdxJPqlumpCi/Hod/vD2An",
      "include_colab_link": true
    },
    "kernelspec": {
      "name": "python3",
      "display_name": "Python 3"
    },
    "language_info": {
      "name": "python"
    }
  },
  "cells": [
    {
      "cell_type": "markdown",
      "metadata": {
        "id": "view-in-github",
        "colab_type": "text"
      },
      "source": [
        "<a href=\"https://colab.research.google.com/github/Danyokkk/hypatia/blob/main/notes/updated-homework.ipynb\" target=\"_parent\"><img src=\"https://colab.research.google.com/assets/colab-badge.svg\" alt=\"Open In Colab\"/></a>"
      ]
    },
    {
      "cell_type": "code",
      "execution_count": null,
      "metadata": {
        "colab": {
          "base_uri": "https://localhost:8080/",
          "height": 35
        },
        "id": "UD59XcEnEIbH",
        "outputId": "c7e43c12-189f-458e-d671-bdeca58bc908"
      },
      "outputs": [
        {
          "output_type": "execute_result",
          "data": {
            "text/plain": [
              "'danya'"
            ],
            "application/vnd.google.colaboratory.intrinsic+json": {
              "type": "string"
            }
          },
          "metadata": {},
          "execution_count": 3
        }
      ],
      "source": [
        "#BIG TO SMALL\n",
        "\n",
        "print(\"Danya\".lower())\n",
        "\n",
        "\n",
        "\n",
        "def toLower(inputWord):\n",
        "  return inputWord.lower()\n",
        "\n",
        "print(toLower(\"DANYA\"))"
      ]
    },
    {
      "cell_type": "code",
      "source": [
        "#SMALL TO BIG\n",
        "\n",
        "print(\"Danya\".upper())\n",
        "\n",
        "def toUpper(inputWord):\n",
        "  return inputWord.upper()\n",
        "\n",
        "toUpper(\"danya\")"
      ],
      "metadata": {
        "colab": {
          "base_uri": "https://localhost:8080/",
          "height": 35
        },
        "id": "kHd74luzFB1w",
        "outputId": "96d6bdd3-3938-4b27-84c3-b9cd4cc7332a"
      },
      "execution_count": null,
      "outputs": [
        {
          "output_type": "execute_result",
          "data": {
            "text/plain": [
              "'DANYA'"
            ],
            "application/vnd.google.colaboratory.intrinsic+json": {
              "type": "string"
            }
          },
          "metadata": {},
          "execution_count": 11
        }
      ]
    },
    {
      "cell_type": "code",
      "source": [
        "'''\n",
        "\n",
        "integers are numbers\n",
        "\n",
        "bool is True False\n",
        "\n",
        "strings are letters\n",
        "\n",
        "'''"
      ],
      "metadata": {
        "id": "GThipfIDGvCa"
      },
      "execution_count": null,
      "outputs": []
    },
    {
      "cell_type": "code",
      "source": [
        "txt = \"hello world\"\n",
        "\n",
        "\n",
        "for i in txt:\n",
        "  print(i)"
      ],
      "metadata": {
        "colab": {
          "base_uri": "https://localhost:8080/"
        },
        "id": "m2hdYC44GxG0",
        "outputId": "9e6cffaa-45e6-4af6-9f3f-534b99f83698"
      },
      "execution_count": null,
      "outputs": [
        {
          "output_type": "stream",
          "name": "stdout",
          "text": [
            "h\n",
            "e\n",
            "l\n",
            "l\n",
            "o\n",
            " \n",
            "w\n",
            "o\n",
            "r\n",
            "l\n",
            "d\n"
          ]
        }
      ]
    },
    {
      "cell_type": "code",
      "source": [
        "txt = \"Im enjoying taking the course\"\n",
        "\n",
        "txt[10:20]"
      ],
      "metadata": {
        "colab": {
          "base_uri": "https://localhost:8080/",
          "height": 35
        },
        "id": "AevG8qbKH8cU",
        "outputId": "78f92e9c-6f63-4ccc-8dba-1e09bb38c680"
      },
      "execution_count": 1,
      "outputs": [
        {
          "output_type": "execute_result",
          "data": {
            "text/plain": [
              "'g taking t'"
            ],
            "application/vnd.google.colaboratory.intrinsic+json": {
              "type": "string"
            }
          },
          "metadata": {},
          "execution_count": 1
        }
      ]
    }
  ]
}