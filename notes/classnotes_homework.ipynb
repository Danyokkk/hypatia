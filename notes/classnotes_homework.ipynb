{
  "nbformat": 4,
  "nbformat_minor": 0,
  "metadata": {
    "colab": {
      "provenance": [],
      "authorship_tag": "ABX9TyP0dNgjREicMq4L3WJm6gAE",
      "include_colab_link": true
    },
    "kernelspec": {
      "name": "python3",
      "display_name": "Python 3"
    },
    "language_info": {
      "name": "python"
    }
  },
  "cells": [
    {
      "cell_type": "markdown",
      "metadata": {
        "id": "view-in-github",
        "colab_type": "text"
      },
      "source": [
        "<a href=\"https://colab.research.google.com/github/Danyokkk/hypatia/blob/main/notes/classnotes_homework.ipynb\" target=\"_parent\"><img src=\"https://colab.research.google.com/assets/colab-badge.svg\" alt=\"Open In Colab\"/></a>"
      ]
    },
    {
      "cell_type": "code",
      "execution_count": 3,
      "metadata": {
        "colab": {
          "base_uri": "https://localhost:8080/",
          "height": 35
        },
        "id": "UD59XcEnEIbH",
        "outputId": "c7e43c12-189f-458e-d671-bdeca58bc908"
      },
      "outputs": [
        {
          "output_type": "execute_result",
          "data": {
            "text/plain": [
              "'danya'"
            ],
            "application/vnd.google.colaboratory.intrinsic+json": {
              "type": "string"
            }
          },
          "metadata": {},
          "execution_count": 3
        }
      ],
      "source": [
        "\"Danya\".upper()\n",
        "\n",
        "\n",
        "\n",
        "def toLower(inputWord):\n",
        "  return inputWord.lower()\n",
        "\n",
        "toLower(\"DANYA\")"
      ]
    },
    {
      "cell_type": "code",
      "source": [
        "\"HOMEWORK\"\n",
        "\n",
        "def toUpper(inputWord):\n",
        "  return inputWord.upper()\n",
        "\n",
        "toUpper(\"danya\")"
      ],
      "metadata": {
        "colab": {
          "base_uri": "https://localhost:8080/",
          "height": 35
        },
        "id": "kHd74luzFB1w",
        "outputId": "96d6bdd3-3938-4b27-84c3-b9cd4cc7332a"
      },
      "execution_count": 11,
      "outputs": [
        {
          "output_type": "execute_result",
          "data": {
            "text/plain": [
              "'DANYA'"
            ],
            "application/vnd.google.colaboratory.intrinsic+json": {
              "type": "string"
            }
          },
          "metadata": {},
          "execution_count": 11
        }
      ]
    },
    {
      "cell_type": "code",
      "source": [
        "'''\n",
        "\n",
        "integers are numbers\n",
        "\n",
        "bool is True False\n",
        "\n",
        "strings are letters\n",
        "\n",
        "'''"
      ],
      "metadata": {
        "id": "GThipfIDGvCa"
      },
      "execution_count": null,
      "outputs": []
    },
    {
      "cell_type": "code",
      "source": [
        "txt = \"hello world\"\n",
        "\n",
        "\n",
        "for i in txt:\n",
        "  print(i)"
      ],
      "metadata": {
        "colab": {
          "base_uri": "https://localhost:8080/"
        },
        "id": "m2hdYC44GxG0",
        "outputId": "9e6cffaa-45e6-4af6-9f3f-534b99f83698"
      },
      "execution_count": 10,
      "outputs": [
        {
          "output_type": "stream",
          "name": "stdout",
          "text": [
            "h\n",
            "e\n",
            "l\n",
            "l\n",
            "o\n",
            " \n",
            "w\n",
            "o\n",
            "r\n",
            "l\n",
            "d\n"
          ]
        }
      ]
    },
    {
      "cell_type": "code",
      "source": [
        "txt = \"Hello, I'm Danylo and I like programming. I also like to play games.\"\n",
        "\n",
        "txt[10:20]"
      ],
      "metadata": {
        "colab": {
          "base_uri": "https://localhost:8080/",
          "height": 35
        },
        "id": "AevG8qbKH8cU",
        "outputId": "dc07a98a-7322-4966-e000-5c65e1bc8280"
      },
      "execution_count": 14,
      "outputs": [
        {
          "output_type": "execute_result",
          "data": {
            "text/plain": [
              "' Danylo an'"
            ],
            "application/vnd.google.colaboratory.intrinsic+json": {
              "type": "string"
            }
          },
          "metadata": {},
          "execution_count": 14
        }
      ]
    }
  ]
}